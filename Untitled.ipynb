{
 "cells": [
  {
   "cell_type": "code",
   "execution_count": 1,
   "metadata": {
    "collapsed": false
   },
   "outputs": [],
   "source": [
    "%matplotlib inline\n",
    "import numpy as np\n",
    "from matplotlib import pyplot as plt\n",
    "from sklearn.cluster import KMeans\n",
    "import pandas as pd\n",
    "from sklearn.preprocessing import StandardScaler\n",
    "from sklearn import metrics"
   ]
  },
  {
   "cell_type": "markdown",
   "metadata": {},
   "source": [
    "### 1. Read data\n",
    "Data 정보 파악"
   ]
  },
  {
   "cell_type": "code",
   "execution_count": 2,
   "metadata": {
    "collapsed": false
   },
   "outputs": [],
   "source": [
    "input_file = 'D:\\pyAnal\\MODELING_BASE.csv'\n",
    "originData = pd.read_table(input_file, encoding='CP949', delimiter=',')"
   ]
  },
  {
   "cell_type": "markdown",
   "metadata": {
    "collapsed": false
   },
   "source": [
    "originData.head()"
   ]
  },
  {
   "cell_type": "markdown",
   "metadata": {
    "collapsed": false
   },
   "source": [
    "originData.describe()"
   ]
  },
  {
   "cell_type": "code",
   "execution_count": 43,
   "metadata": {
    "collapsed": false
   },
   "outputs": [],
   "source": [
    "#aData.info()\n",
    "#aData.values\n",
    "#aData.columns\n",
    "#aData.isnull().sum()"
   ]
  },
  {
   "cell_type": "markdown",
   "metadata": {},
   "source": [
    "### 2. Data 전처리"
   ]
  },
  {
   "cell_type": "markdown",
   "metadata": {},
   "source": [
    "NOx의 양을 결정하는 세 변수를 그래프로 살펴보니 음수 or 매우 작은 양수 값이 존재하는데 이는 새어나간 gas의 양으로 판단하여 값은 0으로 처리한다."
   ]
  },
  {
   "cell_type": "markdown",
   "metadata": {
    "collapsed": false
   },
   "source": [
    "for i in range(len(originData.FIC220)):\n",
    "    if originData.FIC220[i] < 10:\n",
    "       originData.FIC220[i] = '0'\n",
    "    else:\n",
    "        pass\n",
    "    i += 1\n",
    "\n",
    "for i in range(len(originData.FIC201)):\n",
    "    if originData.FIC201[i] < 10:\n",
    "       originData.FIC201[i] = '0'\n",
    "    else:\n",
    "        pass\n",
    "    i += 1\n",
    "\n",
    "for i in range(len(originData.FIC221)):\n",
    "    if originData.FIC221[i] < 10:\n",
    "       originData.FIC221[i] = '0'\n",
    "    else:\n",
    "        pass\n",
    "    i += 1"
   ]
  },
  {
   "cell_type": "markdown",
   "metadata": {
    "collapsed": false
   },
   "source": [
    "plt.figure(figsize=(28,14))\n",
    "plt.plot(originData['STEAM'])\n",
    "plt.plot(originData['NOX'])"
   ]
  },
  {
   "cell_type": "markdown",
   "metadata": {},
   "source": [
    "단위 STEAM 양 당 배출되는 NOx의 양을 보기 위해 NOx/STEAM 을 계산한다.\n",
    "계산 결과의 그래프를 통해 STEAM당 NOx의 비율이 60% 이상, 30% 이하의 데이터를 아웃라이어로 판단하여 제외한다."
   ]
  },
  {
   "cell_type": "markdown",
   "metadata": {
    "collapsed": false
   },
   "source": [
    "originData[\"rateNOx\"] = (originData['NOX']/originData['STEAM'])*100\n",
    "plt.figure(figsize=(28,14))\n",
    "plt.plot(originData['rateNOx'])"
   ]
  },
  {
   "cell_type": "code",
   "execution_count": 7,
   "metadata": {
    "collapsed": false
   },
   "outputs": [],
   "source": [
    "analData = originData.where( originData[\"rateNOx\"] < 60 )\n",
    "analData = analData.dropna(axis=0)\n",
    "analData = analData.where( analData[\"rateNOx\"] > 30 )\n",
    "analData = analData.dropna(axis=0)\n",
    "analData = analData.reset_index()"
   ]
  },
  {
   "cell_type": "code",
   "execution_count": null,
   "metadata": {
    "collapsed": true
   },
   "outputs": [],
   "source": [
    "analData.describe()"
   ]
  },
  {
   "cell_type": "code",
   "execution_count": null,
   "metadata": {
    "collapsed": true
   },
   "outputs": [],
   "source": [
    "analData.loc[ analData['rateNOx'] <= 41.109631, 'lvlOfNOx'] = 0\n",
    "analData.loc[(analData['rateNOx'] > 41.109631) & (analData['rateNOx'] <= 47.148855), 'lvlOfNOx'] = 1\n",
    "analData.loc[(analData['rateNOx'] > 47.148855) & (analData['rateNOx'] <= 49.659183), 'lvlOfNOx'] = 2\n",
    "analData.loc[analData['rateNOx'] > 49.659183, 'lvlOfNOx'] = 3\n",
    "\n",
    "analData['lvlOfNOx'].hist(bins=70)"
   ]
  },
  {
   "cell_type": "code",
   "execution_count": null,
   "metadata": {
    "collapsed": true
   },
   "outputs": [],
   "source": [
    "group0 = analData.where( analData['lvlOfNOx'] == 0 )\n",
    "group0 = group0.dropna(axis=0)\n",
    "group0 = group0.reset_index()\n",
    "\n",
    "group1 = analData.where( analData['lvlOfNOx'] == 1 )\n",
    "group1 = group1.dropna(axis=0)\n",
    "group1 = group1.reset_index()\n",
    "\n",
    "group2 = analData.where( analData['lvlOfNOx'] == 2 )\n",
    "group2 = group2.dropna(axis=0)\n",
    "group2 = group2.reset_index()\n",
    "\n",
    "group3 = analData.where( analData['lvlOfNOx'] == 3 )\n",
    "group3 = group3.dropna(axis=0)\n",
    "group3 = group3.reset_index()"
   ]
  },
  {
   "cell_type": "code",
   "execution_count": null,
   "metadata": {
    "collapsed": true
   },
   "outputs": [],
   "source": [
    "plt.subplot(2, 2, 1)\n",
    "plt.plot(group0['FIC220'], label = 'FIC220')\n",
    "plt.plot(group0['FIC201'], label = 'FIC201')\n",
    "plt.plot(group0['FIC221'], label = 'FIC221')\n",
    "plt.subplot(2, 2, 2)\n",
    "plt.plot(group1['FIC220'], label = 'FIC220')\n",
    "plt.plot(group1['FIC201'], label = 'FIC201')\n",
    "plt.plot(group1['FIC221'], label = 'FIC221')\n",
    "plt.subplot(2, 2, 3)\n",
    "plt.plot(group2['FIC220'], label = 'FIC220')\n",
    "plt.plot(group2['FIC201'], label = 'FIC201')\n",
    "plt.plot(group2['FIC221'], label = 'FIC221');\n",
    "plt.subplot(2, 2, 4)\n",
    "plt.plot(group3['FIC220'], label = 'FIC220')\n",
    "plt.plot(group3['FIC201'], label = 'FIC201')\n",
    "plt.plot(group3['FIC221'], label = 'FIC221')\n",
    "plt.legend()\n",
    "plt.show()"
   ]
  },
  {
   "cell_type": "code",
   "execution_count": null,
   "metadata": {
    "collapsed": true
   },
   "outputs": [],
   "source": [
    "group201_2 = analData.where( analData['FIC201'] >= 458.995622 )\n",
    "group201_2 = group201_2.dropna(axis=0)\n",
    "group201_2 = group201_2.reset_index()\n",
    "\n",
    "group201 = analData.where( analData['FIC201'] < 458.995622 )\n",
    "group201 = group201.dropna(axis=0)\n",
    "group201 = group201.reset_index()\n",
    "\n",
    "group201.describe()\n",
    "group201_2.describe()"
   ]
  },
  {
   "cell_type": "code",
   "execution_count": null,
   "metadata": {
    "collapsed": true
   },
   "outputs": [],
   "source": [
    "plt.figure(figsize=(15,7))\n",
    "plt.subplot(1, 2, 1)\n",
    "plt.plot(group201['FIC220'], label = 'FIC220')\n",
    "plt.plot(group201['FIC201'], label = 'FIC201')\n",
    "plt.plot(group201['FIC221'], label = 'FIC221')\n",
    "plt.subplot(1, 2, 2)\n",
    "plt.plot(group201_2['FIC220'], label = 'FIC220')\n",
    "plt.plot(group201_2['FIC201'], label = 'FIC201')\n",
    "plt.plot(group201_2['FIC221'], label = 'FIC221')\n",
    "plt.legend()\n",
    "plt.show()"
   ]
  },
  {
   "cell_type": "code",
   "execution_count": null,
   "metadata": {
    "collapsed": true
   },
   "outputs": [],
   "source": [
    "plt.plot(group201_2['NOX'], label = 'Is201')\n",
    "plt.plot(group201['NOX'], label = 'Not201')\n",
    "plt.legend()\n",
    "plt.show()"
   ]
  },
  {
   "cell_type": "code",
   "execution_count": null,
   "metadata": {
    "collapsed": true
   },
   "outputs": [],
   "source": [
    "plt.plot(group201['rateNOx'], label = 'FIC201')\n",
    "plt.plot(group201_2['rateNOx'], label = 'FIC201_2')\n",
    "plt.legend()\n",
    "plt.show()"
   ]
  },
  {
   "cell_type": "markdown",
   "metadata": {
    "collapsed": false
   },
   "source": [
    "plt.figure(figsize=(28,14))\n",
    "plt.plot(analData['rateNOx'])"
   ]
  },
  {
   "cell_type": "markdown",
   "metadata": {
    "collapsed": false
   },
   "source": [
    "plt.figure(figsize=(28,14))\n",
    "plt.plot(analData['FIC220'], label = 'FIC220')\n",
    "plt.plot(analData['FIC201'], label = 'FIC201')\n",
    "plt.plot(analData['FIC221'], label = 'FIC221')\n",
    "plt.legend()\n",
    "plt.show()"
   ]
  },
  {
   "cell_type": "code",
   "execution_count": null,
   "metadata": {
    "collapsed": true
   },
   "outputs": [],
   "source": []
  },
  {
   "cell_type": "markdown",
   "metadata": {
    "collapsed": true
   },
   "source": [
    "corrDF = analData.corr()"
   ]
  },
  {
   "cell_type": "markdown",
   "metadata": {
    "collapsed": false
   },
   "source": [
    "corrDF"
   ]
  },
  {
   "cell_type": "markdown",
   "metadata": {
    "collapsed": false
   },
   "source": [
    "plt.subplot(2, 2, 1)\n",
    "plt.plot(aData['TI697'])\n",
    "plt.subplot(2, 2, 2)\n",
    "plt.plot(aData['TI797'])\n",
    "plt.subplot(2, 2, 3)\n",
    "plt.plot(aData['TI897'])\n",
    "plt.subplot(2, 2, 4)\n",
    "plt.plot(aData['TI910'])"
   ]
  },
  {
   "cell_type": "code",
   "execution_count": null,
   "metadata": {
    "collapsed": true
   },
   "outputs": [],
   "source": [
    "fig = plt.figure(figsize=(20, 100))\n",
    "\n",
    "for i in range(len(aData.columns)):\n",
    "    if i >= 2:\n",
    "        ax = fig.add_subplot(25, 4, i-1)\n",
    "        plt.plot(aData.iloc[0:, i:i+1])\n",
    "    #ax.xaxis.set_visible(False)\n",
    "    #ax.yaxis.set_visible(False)\n",
    "    # x and y axis should be equal length\n",
    "        x0,x1 = ax.get_xlim()\n",
    "        y0,y1 = ax.get_ylim()\n",
    "        ax.set_aspect(abs(x1-x0)/abs(y1-y0))\n",
    "    else:\n",
    "        pass\n",
    "\n",
    "plt.show()"
   ]
  },
  {
   "cell_type": "code",
   "execution_count": null,
   "metadata": {
    "collapsed": true
   },
   "outputs": [],
   "source": [
    "#속성별 추이\n",
    "ord = 1\n",
    "fig = plt.figure(figsize=(15, 100))\n",
    "for i in range(len(aData.columns)):\n",
    "    if i >= 5:\n",
    "        j = i\n",
    "        for k in range(4):\n",
    "            ax = fig.add_subplot(25, 4, ord)\n",
    "            plt.title(aData.columns[j])\n",
    "            plt.plot(aData.iloc[0:, j:j+1])\n",
    "    #ax.xaxis.set_visible(False)\n",
    "    #ax.yaxis.set_visible(False)\n",
    "    # x and y axis should be equal length\n",
    "            x0,x1 = ax.get_xlim()\n",
    "            y0,y1 = ax.get_ylim()\n",
    "            ax.set_aspect(abs(x1-x0)/abs(y1-y0))\n",
    "            j += 21\n",
    "            ord += 1\n",
    "    else:\n",
    "        pass\n",
    "\n",
    "plt.show()"
   ]
  },
  {
   "cell_type": "code",
   "execution_count": null,
   "metadata": {
    "collapsed": true
   },
   "outputs": [],
   "source": [
    "plt.figure(figsize=(15,10))\n",
    "plt.plot(aData['TI697'])\n",
    "plt.plot(aData['TI797'])\n",
    "plt.plot(aData['TI897'])\n",
    "plt.plot(aData['TI910'])"
   ]
  },
  {
   "cell_type": "code",
   "execution_count": null,
   "metadata": {
    "collapsed": true
   },
   "outputs": [],
   "source": []
  }
 ],
 "metadata": {
  "kernelspec": {
   "display_name": "Python [conda root]",
   "language": "python",
   "name": "conda-root-py"
  },
  "language_info": {
   "codemirror_mode": {
    "name": "ipython",
    "version": 3
   },
   "file_extension": ".py",
   "mimetype": "text/x-python",
   "name": "python",
   "nbconvert_exporter": "python",
   "pygments_lexer": "ipython3",
   "version": "3.5.2"
  }
 },
 "nbformat": 4,
 "nbformat_minor": 2
}
