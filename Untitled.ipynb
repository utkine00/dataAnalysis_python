{
 "cells": [
  {
   "cell_type": "code",
   "execution_count": 6,
   "metadata": {
    "collapsed": false
   },
   "outputs": [],
   "source": [
    "%matplotlib inline\n",
    "import numpy as np\n",
    "from matplotlib import pyplot as plt\n",
    "from sklearn.cluster import KMeans\n",
    "import pandas as pd\n",
    "from sklearn.preprocessing import StandardScaler\n",
    "from sklearn import metrics"
   ]
  },
  {
   "cell_type": "code",
   "execution_count": null,
   "metadata": {
    "collapsed": true
   },
   "outputs": [],
   "source": [
    "input_file = 'D:\\pyAnal\\M_BASE.csv'\n",
    "aData = pd.read_table(input_file, encoding='CP949', delimiter=',')"
   ]
  },
  {
   "cell_type": "code",
   "execution_count": null,
   "metadata": {
    "collapsed": true
   },
   "outputs": [],
   "source": [
    "aData.head()"
   ]
  },
  {
   "cell_type": "code",
   "execution_count": null,
   "metadata": {
    "collapsed": true
   },
   "outputs": [],
   "source": [
    "aData.describe()"
   ]
  },
  {
   "cell_type": "code",
   "execution_count": 9,
   "metadata": {
    "collapsed": false
   },
   "outputs": [],
   "source": [
    "#aData.info()\n",
    "#aData.values\n",
    "#aData.columns\n",
    "#aData.isnull().sum()"
   ]
  },
  {
   "cell_type": "code",
   "execution_count": null,
   "metadata": {
    "collapsed": true
   },
   "outputs": [],
   "source": [
    "plt.figure(figsize=(28,14))\n",
    "plt.plot(aData['STEAM'])\n",
    "plt.plot(aData['NOX'])"
   ]
  },
  {
   "cell_type": "code",
   "execution_count": null,
   "metadata": {
    "collapsed": true
   },
   "outputs": [],
   "source": [
    "plt.plot(aData['NOX']/aData['STEAM'])\n",
    "#plt.plot((aData['STEAM']-aData['NOX'])/aData['STEAM'])"
   ]
  },
  {
   "cell_type": "code",
   "execution_count": null,
   "metadata": {
    "collapsed": true
   },
   "outputs": [],
   "source": [
    "plt.figure(figsize=(28,14))\n",
    "plt.plot(aData['FIC220'])\n",
    "plt.plot(aData['FIC201'])\n",
    "plt.plot(aData['FIC221'])"
   ]
  },
  {
   "cell_type": "code",
   "execution_count": null,
   "metadata": {
    "collapsed": true
   },
   "outputs": [],
   "source": [
    "plt.subplot(2, 2, 1)\n",
    "plt.plot(aData['TI697'])\n",
    "plt.subplot(2, 2, 2)\n",
    "plt.plot(aData['TI797'])\n",
    "plt.subplot(2, 2, 3)\n",
    "plt.plot(aData['TI897'])\n",
    "plt.subplot(2, 2, 4)\n",
    "plt.plot(aData['TI910'])"
   ]
  },
  {
   "cell_type": "code",
   "execution_count": null,
   "metadata": {
    "collapsed": true
   },
   "outputs": [],
   "source": [
    "fig = plt.figure(figsize=(20, 100))\n",
    "\n",
    "for i in range(len(aData.columns)):\n",
    "    if i >= 2:\n",
    "        ax = fig.add_subplot(25, 4, i-1)\n",
    "        plt.plot(aData.iloc[0:, i:i+1])\n",
    "    #ax.xaxis.set_visible(False)\n",
    "    #ax.yaxis.set_visible(False)\n",
    "    # x and y axis should be equal length\n",
    "        x0,x1 = ax.get_xlim()\n",
    "        y0,y1 = ax.get_ylim()\n",
    "        ax.set_aspect(abs(x1-x0)/abs(y1-y0))\n",
    "    else:\n",
    "        pass\n",
    "\n",
    "plt.show()"
   ]
  },
  {
   "cell_type": "code",
   "execution_count": null,
   "metadata": {
    "collapsed": true
   },
   "outputs": [],
   "source": [
    "#속성별 추이\n",
    "ord = 1\n",
    "fig = plt.figure(figsize=(15, 100))\n",
    "for i in range(len(aData.columns)):\n",
    "    if i >= 5:\n",
    "        j = i\n",
    "        for k in range(4):\n",
    "            ax = fig.add_subplot(25, 4, ord)\n",
    "            plt.title(aData.columns[j])\n",
    "            plt.plot(aData.iloc[0:, j:j+1])\n",
    "    #ax.xaxis.set_visible(False)\n",
    "    #ax.yaxis.set_visible(False)\n",
    "    # x and y axis should be equal length\n",
    "            x0,x1 = ax.get_xlim()\n",
    "            y0,y1 = ax.get_ylim()\n",
    "            ax.set_aspect(abs(x1-x0)/abs(y1-y0))\n",
    "            j += 21\n",
    "            ord += 1\n",
    "    else:\n",
    "        pass\n",
    "\n",
    "plt.show()"
   ]
  },
  {
   "cell_type": "code",
   "execution_count": null,
   "metadata": {
    "collapsed": true
   },
   "outputs": [],
   "source": [
    "plt.figure(figsize=(15,10))\n",
    "plt.plot(aData['TI697'])\n",
    "plt.plot(aData['TI797'])\n",
    "plt.plot(aData['TI897'])\n",
    "plt.plot(aData['TI910'])"
   ]
  }
 ],
 "metadata": {
  "kernelspec": {
   "display_name": "Python [conda root]",
   "language": "python",
   "name": "conda-root-py"
  },
  "language_info": {
   "codemirror_mode": {
    "name": "ipython",
    "version": 3
   },
   "file_extension": ".py",
   "mimetype": "text/x-python",
   "name": "python",
   "nbconvert_exporter": "python",
   "pygments_lexer": "ipython3",
   "version": "3.5.2"
  }
 },
 "nbformat": 4,
 "nbformat_minor": 2
}
